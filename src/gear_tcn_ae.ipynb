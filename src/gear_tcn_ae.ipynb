{
  "nbformat": 4,
  "nbformat_minor": 0,
  "metadata": {
    "colab": {
      "name": "gear-tcn-ae.ipynb",
      "provenance": [],
      "collapsed_sections": []
    },
    "kernelspec": {
      "name": "python3",
      "display_name": "Python 3"
    },
    "language_info": {
      "name": "python"
    }
  },
  "cells": [
    {
      "cell_type": "markdown",
      "source": [
        "# 使用 TCN-AE（時間卷積神經網路 ＋ 自動編碼器）進行齒輪振動 - 時序資料 - 的缺陷診斷"
      ],
      "metadata": {
        "id": "k1d8zCdeRKuj"
      }
    },
    {
      "cell_type": "markdown",
      "source": [
        "<table class=\"colab-tcn-buttons\" align=\"left\">\n",
        "  <td>\n",
        "    <a target=\"_blank\" href=\"https://colab.research.google.com/github/iinoshirozheng/TCN-AutoEncoder/blob/main/TCN_AutoEncoder.ipynb\"><img src=\"https://www.tensorflow.org/images/colab_logo_32px.png\" />在 Google Colab 上面執行</a>\n",
        "  </td>\n",
        "  <td>\n",
        "    <a target=\"_blank\" href=\"https://github.com/iinoshirozheng/TCN-AutoEncoder/blob/main/TCN_AutoEncoder.ipynb\"><img src=\"https://www.tensorflow.org/images/GitHub-Mark-32px.png\" />在我的 GitHub 上查看源碼</a>\n",
        "  </td>\n",
        "</table>"
      ],
      "metadata": {
        "id": "Zv1PbeSKmmsm"
      }
    },
    {
      "cell_type": "markdown",
      "source": [
        "請注意以下幾點：\n",
        "- 使用 Google CoLab 時，因為訓練時間較長，請記得啟動 GPU 加速：\n",
        "   - 到上方選單找到 編輯→筆記本設置\n",
        "   - 從硬件加速器下拉列表中選擇 GPU"
      ],
      "metadata": {
        "id": "F321jB0k7xZp"
      }
    },
    {
      "cell_type": "code",
      "source": [
        "#\n",
        "# 首先檢查是否在 Google CoLab 上執行\n",
        "#\n",
        "IN_COLAB = 'google.colab' in str(get_ipython())\n",
        "if IN_COLAB:\n",
        "    print('Running on Google CoLab!')\n",
        "else:\n",
        "    print('Not running on Google CoLab!')"
      ],
      "metadata": {
        "colab": {
          "base_uri": "https://localhost:8080/"
        },
        "id": "KHKVRbs77njr",
        "outputId": "abbd4fdc-ca31-4ffd-bd6a-22276d35c8bb"
      },
      "execution_count": 3,
      "outputs": [
        {
          "output_type": "stream",
          "name": "stdout",
          "text": [
            "Running on Google CoLab!\n"
          ]
        }
      ]
    },
    {
      "cell_type": "code",
      "source": [
        "#\n",
        "# 下載必須要用的 packages 以及 repository\n",
        "#\n",
        "import os\n",
        "if IN_COLAB:\n",
        "    !pip3 install keras-tcn\n",
        "    if not os.path.exists('/content/gear-tcn-ae/'):\n",
        "        print(\"Repo not cloned yet. Do it now!\")\n",
        "        !git clone https://github.com/iinoshirozheng/gear-tcn-ae /content/gear-tcn-ae/\n",
        "    else:\n",
        "        print(\"Repository already cloned!\")"
      ],
      "metadata": {
        "id": "_JPNK4Rz9WqB"
      },
      "execution_count": null,
      "outputs": []
    },
    {
      "cell_type": "code",
      "source": [
        "#\n",
        "# In Google CoLab: 更變資料夾到 gear-tcn-ae/src\n",
        "#\n",
        "if IN_COLAB and os.getcwd() != \"/content/gear-tcn-ae/src\":\n",
        "  # Print the current working directory\n",
        "  print(\"Old working directory: {0}\".format(os.getcwd()))\n",
        "\n",
        "  # Change the current working directory\n",
        "  os.chdir('/content/gear-tcn-ae/src')\n",
        "\n",
        "  # Print the current working directory\n",
        "  print(\"New working directory: {0}\".format(os.getcwd()))"
      ],
      "metadata": {
        "id": "yUoMIt_K_0pf"
      },
      "execution_count": null,
      "outputs": []
    }
  ]
}